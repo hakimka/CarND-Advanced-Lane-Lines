{
 "cells": [
  {
   "cell_type": "code",
   "execution_count": 2,
   "metadata": {
    "collapsed": true
   },
   "outputs": [],
   "source": [
    "import numpy as np\n",
    "import cv2\n",
    "\n",
    "import matplotlib.pyplot as plt\n",
    "import matplotlib.image as mpimg\n",
    "%matplotlib inline\n",
    "import pickle\n",
    "\n",
    "from os import listdir\n",
    "from os.path import isfile, join\n",
    "\n"
   ]
  },
  {
   "cell_type": "code",
   "execution_count": 3,
   "metadata": {
    "collapsed": true,
    "scrolled": true
   },
   "outputs": [],
   "source": [
    "calDir = '.\\\\camera_cal'\n",
    "calFiles = [f for f in listdir(calDir) if isfile(join(calDir, f))]\n",
    "\n",
    "for i in range(0,len(calFiles)-1):\n",
    "    fullFileName = calDir + '\\\\' + calFiles[i]\n",
    "    #print (fullFileName)\n",
    "    img = mpimg.imread(fullFileName)\n",
    "    #plt.imshow(img)\n",
    "    \n",
    "    objpoints=[] #3D points in real world\n",
    "    imgpoints=[] #2D points in image\n",
    "    \n",
    "    #prepare obj points (0,0,0), (1,0,0) (2,0,0)....(9,6,0)\n",
    "    objp = np.zeros((6*9,3), np.float32)\n",
    "    objp[:,:2] = np.mgrid[0:9, 0:6].T.reshape(-1,2)\n",
    "    \n",
    "    # convert to gray scale\n",
    "    gray = cv2.cvtColor(img, cv2.COLOR_BGR2GRAY)\n",
    "    \n",
    "    #find the chessboard corners\n",
    "    ret, corners = cv2.findChessboardCorners(gray, (9,6), None)\n",
    "    \n",
    "    # when corners found, add object points, image points\n",
    "    if ret == True:\n",
    "        imgpoints.append(corners)\n",
    "        objpoints.append(objp)\n",
    "        \n",
    "        #img = cv2.drawChessboardCorners(img, (9,6), corners, ret)\n",
    "        #plt.imshow(img)\n",
    "        #plt.show()\n",
    "        "
   ]
  },
  {
   "cell_type": "code",
   "execution_count": 4,
   "metadata": {
    "collapsed": true
   },
   "outputs": [],
   "source": [
    "# ret - \n",
    "# mtx - cam matrix to transform 3D obj point to 2D image point\n",
    "# dist - distortion coeff\n",
    "# rvecs, tvecs - camera position in the world, rotation and translation pos\n",
    "ret, mtx, dist, rvecs, tvecs = cv2.calibrateCamera(objpoints, imgpoints, gray.shape[::-1], None, None)"
   ]
  },
  {
   "cell_type": "code",
   "execution_count": 5,
   "metadata": {},
   "outputs": [
    {
     "name": "stdout",
     "output_type": "stream",
     "text": [
      "0.6101385536433866\n",
      "[[  1.00391208e+03   0.00000000e+00   6.30724865e+02]\n",
      " [  0.00000000e+00   1.08034061e+03   3.52424736e+02]\n",
      " [  0.00000000e+00   0.00000000e+00   1.00000000e+00]]\n"
     ]
    }
   ],
   "source": [
    "print (ret)\n",
    "print (mtx)\n",
    "\n",
    "calPickle = open ('calib.p', 'wb')\n",
    "pickle.dump([ret, mtx, dist, rvecs, tvecs], calPickle)\n",
    "calPickle.close()\n",
    "\n",
    "\n"
   ]
  },
  {
   "cell_type": "code",
   "execution_count": 6,
   "metadata": {
    "collapsed": true
   },
   "outputs": [],
   "source": [
    "\n",
    "\n",
    "src = np.float32(\n",
    "    [  [690 ,450],\n",
    "       [920 ,600],               \n",
    "       [380 , 600 ],\n",
    "       [595 , 450]\n",
    "    ]\n",
    "    )\n",
    "\n",
    "dst = np.float32(\n",
    "    [  [1050 , 50  ],\n",
    "       [1050 , 700 ],               \n",
    "       [150 , 700 ],\n",
    "       [150 , 50  ]\n",
    "     \n",
    "    ]\n",
    "    )\n",
    "\n",
    "M = cv2.getPerspectiveTransform(src, dst)\n",
    "img_size = (int(img.shape[1]), int(img.shape[0]-10))\n",
    "\n",
    "\n",
    "calPickle = open ('pTrans.p', 'wb')\n",
    "pickle.dump([M, img_size, src, dst], calPickle)\n",
    "calPickle.close()"
   ]
  },
  {
   "cell_type": "code",
   "execution_count": null,
   "metadata": {
    "collapsed": true
   },
   "outputs": [],
   "source": []
  }
 ],
 "metadata": {
  "kernelspec": {
   "display_name": "Python 3",
   "language": "python",
   "name": "python3"
  },
  "language_info": {
   "codemirror_mode": {
    "name": "ipython",
    "version": 3
   },
   "file_extension": ".py",
   "mimetype": "text/x-python",
   "name": "python",
   "nbconvert_exporter": "python",
   "pygments_lexer": "ipython3",
   "version": "3.5.2"
  }
 },
 "nbformat": 4,
 "nbformat_minor": 2
}
